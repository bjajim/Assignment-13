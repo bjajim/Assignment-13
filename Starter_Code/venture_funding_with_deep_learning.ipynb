{
 "cells": [
  {
   "cell_type": "markdown",
   "metadata": {},
   "source": [
    "# Venture Funding with Deep Learning\n",
    "\n",
    "You work as a risk management associate at Alphabet Soup, a venture capital firm. Alphabet Soup’s business team receives many funding applications from startups every day. This team has asked you to help them create a model that predicts whether applicants will be successful if funded by Alphabet Soup.\n",
    "\n",
    "The business team has given you a CSV containing more than 34,000 organizations that have received funding from Alphabet Soup over the years. With your knowledge of machine learning and neural networks, you decide to use the features in the provided dataset to create a binary classifier model that will predict whether an applicant will become a successful business. The CSV file contains a variety of information about these businesses, including whether or not they ultimately became successful.\n",
    "\n",
    "## Instructions:\n",
    "\n",
    "The steps for this challenge are broken out into the following sections:\n",
    "\n",
    "* Prepare the data for use on a neural network model.\n",
    "\n",
    "* Compile and evaluate a binary classification model using a neural network.\n",
    "\n",
    "* Optimize the neural network model.\n",
    "\n",
    "### Prepare the Data for Use on a Neural Network Model \n",
    "\n",
    "Using your knowledge of Pandas and scikit-learn’s `StandardScaler()`, preprocess the dataset so that you can use it to compile and evaluate the neural network model later.\n",
    "\n",
    "Open the starter code file, and complete the following data preparation steps:\n",
    "\n",
    "1. Read the `applicants_data.csv` file into a Pandas DataFrame. Review the DataFrame, looking for categorical variables that will need to be encoded, as well as columns that could eventually define your features and target variables.   \n",
    "\n",
    "2. Drop the “EIN” (Employer Identification Number) and “NAME” columns from the DataFrame, because they are not relevant to the binary classification model.\n",
    " \n",
    "3. Encode the dataset’s categorical variables using `OneHotEncoder`, and then place the encoded variables into a new DataFrame.\n",
    "\n",
    "4. Add the original DataFrame’s numerical variables to the DataFrame containing the encoded variables.\n",
    "\n",
    "> **Note** To complete this step, you will employ the Pandas `concat()` function that was introduced earlier in this course. \n",
    "\n",
    "5. Using the preprocessed data, create the features (`X`) and target (`y`) datasets. The target dataset should be defined by the preprocessed DataFrame column “IS_SUCCESSFUL”. The remaining columns should define the features dataset. \n",
    "\n",
    "6. Split the features and target sets into training and testing datasets.\n",
    "\n",
    "7. Use scikit-learn's `StandardScaler` to scale the features data.\n",
    "\n",
    "### Compile and Evaluate a Binary Classification Model Using a Neural Network\n",
    "\n",
    "Use your knowledge of TensorFlow to design a binary classification deep neural network model. This model should use the dataset’s features to predict whether an Alphabet Soup&ndash;funded startup will be successful based on the features in the dataset. Consider the number of inputs before determining the number of layers that your model will contain or the number of neurons on each layer. Then, compile and fit your model. Finally, evaluate your binary classification model to calculate the model’s loss and accuracy. \n",
    " \n",
    "To do so, complete the following steps:\n",
    "\n",
    "1. Create a deep neural network by assigning the number of input features, the number of layers, and the number of neurons on each layer using Tensorflow’s Keras.\n",
    "\n",
    "> **Hint** You can start with a two-layer deep neural network model that uses the `relu` activation function for both layers.\n",
    "\n",
    "2. Compile and fit the model using the `binary_crossentropy` loss function, the `adam` optimizer, and the `accuracy` evaluation metric.\n",
    "\n",
    "> **Hint** When fitting the model, start with a small number of epochs, such as 20, 50, or 100.\n",
    "\n",
    "3. Evaluate the model using the test data to determine the model’s loss and accuracy.\n",
    "\n",
    "4. Save and export your model to an HDF5 file, and name the file `AlphabetSoup.h5`. \n",
    "\n",
    "### Optimize the Neural Network Model\n",
    "\n",
    "Using your knowledge of TensorFlow and Keras, optimize your model to improve the model's accuracy. Even if you do not successfully achieve a better accuracy, you'll need to demonstrate at least two attempts to optimize the model. You can include these attempts in your existing notebook. Or, you can make copies of the starter notebook in the same folder, rename them, and code each model optimization in a new notebook. \n",
    "\n",
    "> **Note** You will not lose points if your model does not achieve a high accuracy, as long as you make at least two attempts to optimize the model.\n",
    "\n",
    "To do so, complete the following steps:\n",
    "\n",
    "1. Define at least three new deep neural network models (the original plus 2 optimization attempts). With each, try to improve on your first model’s predictive accuracy.\n",
    "\n",
    "> **Rewind** Recall that perfect accuracy has a value of 1, so accuracy improves as its value moves closer to 1. To optimize your model for a predictive accuracy as close to 1 as possible, you can use any or all of the following techniques:\n",
    ">\n",
    "> * Adjust the input data by dropping different features columns to ensure that no variables or outliers confuse the model.\n",
    ">\n",
    "> * Add more neurons (nodes) to a hidden layer.\n",
    ">\n",
    "> * Add more hidden layers.\n",
    ">\n",
    "> * Use different activation functions for the hidden layers.\n",
    ">\n",
    "> * Add to or reduce the number of epochs in the training regimen.\n",
    "\n",
    "2. After finishing your models, display the accuracy scores achieved by each model, and compare the results.\n",
    "\n",
    "3. Save each of your models as an HDF5 file.\n"
   ]
  },
  {
   "cell_type": "code",
   "execution_count": 55,
   "metadata": {},
   "outputs": [],
   "source": [
    "# Imports\n",
    "import pandas as pd\n",
    "from pathlib import Path\n",
    "import tensorflow as tf\n",
    "from tensorflow.keras import Input\n",
    "from tensorflow.keras.layers import Dense\n",
    "from tensorflow.keras.models import Sequential\n",
    "from sklearn.model_selection import train_test_split\n",
    "from sklearn.preprocessing import StandardScaler,OneHotEncoder"
   ]
  },
  {
   "cell_type": "markdown",
   "metadata": {},
   "source": [
    "---\n",
    "\n",
    "## Prepare the data to be used on a neural network model"
   ]
  },
  {
   "cell_type": "markdown",
   "metadata": {},
   "source": [
    "### Step 1: Read the `applicants_data.csv` file into a Pandas DataFrame. Review the DataFrame, looking for categorical variables that will need to be encoded, as well as columns that could eventually define your features and target variables.  \n"
   ]
  },
  {
   "cell_type": "code",
   "execution_count": 56,
   "metadata": {},
   "outputs": [
    {
     "data": {
      "text/html": [
       "<div>\n",
       "<style scoped>\n",
       "    .dataframe tbody tr th:only-of-type {\n",
       "        vertical-align: middle;\n",
       "    }\n",
       "\n",
       "    .dataframe tbody tr th {\n",
       "        vertical-align: top;\n",
       "    }\n",
       "\n",
       "    .dataframe thead th {\n",
       "        text-align: right;\n",
       "    }\n",
       "</style>\n",
       "<table border=\"1\" class=\"dataframe\">\n",
       "  <thead>\n",
       "    <tr style=\"text-align: right;\">\n",
       "      <th></th>\n",
       "      <th>EIN</th>\n",
       "      <th>NAME</th>\n",
       "      <th>APPLICATION_TYPE</th>\n",
       "      <th>AFFILIATION</th>\n",
       "      <th>CLASSIFICATION</th>\n",
       "      <th>USE_CASE</th>\n",
       "      <th>ORGANIZATION</th>\n",
       "      <th>STATUS</th>\n",
       "      <th>INCOME_AMT</th>\n",
       "      <th>SPECIAL_CONSIDERATIONS</th>\n",
       "      <th>ASK_AMT</th>\n",
       "      <th>IS_SUCCESSFUL</th>\n",
       "    </tr>\n",
       "  </thead>\n",
       "  <tbody>\n",
       "    <tr>\n",
       "      <th>0</th>\n",
       "      <td>10520599</td>\n",
       "      <td>BLUE KNIGHTS MOTORCYCLE CLUB</td>\n",
       "      <td>T10</td>\n",
       "      <td>Independent</td>\n",
       "      <td>C1000</td>\n",
       "      <td>ProductDev</td>\n",
       "      <td>Association</td>\n",
       "      <td>1</td>\n",
       "      <td>0</td>\n",
       "      <td>N</td>\n",
       "      <td>5000</td>\n",
       "      <td>1</td>\n",
       "    </tr>\n",
       "    <tr>\n",
       "      <th>1</th>\n",
       "      <td>10531628</td>\n",
       "      <td>AMERICAN CHESAPEAKE CLUB CHARITABLE TR</td>\n",
       "      <td>T3</td>\n",
       "      <td>Independent</td>\n",
       "      <td>C2000</td>\n",
       "      <td>Preservation</td>\n",
       "      <td>Co-operative</td>\n",
       "      <td>1</td>\n",
       "      <td>1-9999</td>\n",
       "      <td>N</td>\n",
       "      <td>108590</td>\n",
       "      <td>1</td>\n",
       "    </tr>\n",
       "    <tr>\n",
       "      <th>2</th>\n",
       "      <td>10547893</td>\n",
       "      <td>ST CLOUD PROFESSIONAL FIREFIGHTERS</td>\n",
       "      <td>T5</td>\n",
       "      <td>CompanySponsored</td>\n",
       "      <td>C3000</td>\n",
       "      <td>ProductDev</td>\n",
       "      <td>Association</td>\n",
       "      <td>1</td>\n",
       "      <td>0</td>\n",
       "      <td>N</td>\n",
       "      <td>5000</td>\n",
       "      <td>0</td>\n",
       "    </tr>\n",
       "    <tr>\n",
       "      <th>3</th>\n",
       "      <td>10553066</td>\n",
       "      <td>SOUTHSIDE ATHLETIC ASSOCIATION</td>\n",
       "      <td>T3</td>\n",
       "      <td>CompanySponsored</td>\n",
       "      <td>C2000</td>\n",
       "      <td>Preservation</td>\n",
       "      <td>Trust</td>\n",
       "      <td>1</td>\n",
       "      <td>10000-24999</td>\n",
       "      <td>N</td>\n",
       "      <td>6692</td>\n",
       "      <td>1</td>\n",
       "    </tr>\n",
       "    <tr>\n",
       "      <th>4</th>\n",
       "      <td>10556103</td>\n",
       "      <td>GENETIC RESEARCH INSTITUTE OF THE DESERT</td>\n",
       "      <td>T3</td>\n",
       "      <td>Independent</td>\n",
       "      <td>C1000</td>\n",
       "      <td>Heathcare</td>\n",
       "      <td>Trust</td>\n",
       "      <td>1</td>\n",
       "      <td>100000-499999</td>\n",
       "      <td>N</td>\n",
       "      <td>142590</td>\n",
       "      <td>1</td>\n",
       "    </tr>\n",
       "  </tbody>\n",
       "</table>\n",
       "</div>"
      ],
      "text/plain": [
       "        EIN                                      NAME APPLICATION_TYPE  \\\n",
       "0  10520599              BLUE KNIGHTS MOTORCYCLE CLUB              T10   \n",
       "1  10531628    AMERICAN CHESAPEAKE CLUB CHARITABLE TR               T3   \n",
       "2  10547893        ST CLOUD PROFESSIONAL FIREFIGHTERS               T5   \n",
       "3  10553066            SOUTHSIDE ATHLETIC ASSOCIATION               T3   \n",
       "4  10556103  GENETIC RESEARCH INSTITUTE OF THE DESERT               T3   \n",
       "\n",
       "        AFFILIATION CLASSIFICATION      USE_CASE  ORGANIZATION  STATUS  \\\n",
       "0       Independent          C1000    ProductDev   Association       1   \n",
       "1       Independent          C2000  Preservation  Co-operative       1   \n",
       "2  CompanySponsored          C3000    ProductDev   Association       1   \n",
       "3  CompanySponsored          C2000  Preservation         Trust       1   \n",
       "4       Independent          C1000     Heathcare         Trust       1   \n",
       "\n",
       "      INCOME_AMT SPECIAL_CONSIDERATIONS  ASK_AMT  IS_SUCCESSFUL  \n",
       "0              0                      N     5000              1  \n",
       "1         1-9999                      N   108590              1  \n",
       "2              0                      N     5000              0  \n",
       "3    10000-24999                      N     6692              1  \n",
       "4  100000-499999                      N   142590              1  "
      ]
     },
     "execution_count": 56,
     "metadata": {},
     "output_type": "execute_result"
    }
   ],
   "source": [
    "# Read the applicants_data.csv file from the Resources folder into a Pandas DataFrame\n",
    "applicant_data_df = pd.read_csv(Path(\"Resources/applicants_data.csv\"))\n",
    "\n",
    "# Review the DataFrame\n",
    "\n",
    "applicant_data_df.head()"
   ]
  },
  {
   "cell_type": "code",
   "execution_count": 57,
   "metadata": {},
   "outputs": [
    {
     "name": "stdout",
     "output_type": "stream",
     "text": [
      "<class 'pandas.core.frame.DataFrame'>\n",
      "RangeIndex: 34299 entries, 0 to 34298\n",
      "Data columns (total 12 columns):\n",
      " #   Column                  Non-Null Count  Dtype \n",
      "---  ------                  --------------  ----- \n",
      " 0   EIN                     34299 non-null  int64 \n",
      " 1   NAME                    34299 non-null  object\n",
      " 2   APPLICATION_TYPE        34299 non-null  object\n",
      " 3   AFFILIATION             34299 non-null  object\n",
      " 4   CLASSIFICATION          34299 non-null  object\n",
      " 5   USE_CASE                34299 non-null  object\n",
      " 6   ORGANIZATION            34299 non-null  object\n",
      " 7   STATUS                  34299 non-null  int64 \n",
      " 8   INCOME_AMT              34299 non-null  object\n",
      " 9   SPECIAL_CONSIDERATIONS  34299 non-null  object\n",
      " 10  ASK_AMT                 34299 non-null  int64 \n",
      " 11  IS_SUCCESSFUL           34299 non-null  int64 \n",
      "dtypes: int64(4), object(8)\n",
      "memory usage: 3.1+ MB\n"
     ]
    }
   ],
   "source": [
    "# Review the data types associated with the columns\n",
    "applicant_data_df.info()\n"
   ]
  },
  {
   "cell_type": "markdown",
   "metadata": {},
   "source": [
    "### Step 2: Drop the “EIN” (Employer Identification Number) and “NAME” columns from the DataFrame, because they are not relevant to the binary classification model."
   ]
  },
  {
   "cell_type": "code",
   "execution_count": 58,
   "metadata": {},
   "outputs": [
    {
     "data": {
      "text/html": [
       "<div>\n",
       "<style scoped>\n",
       "    .dataframe tbody tr th:only-of-type {\n",
       "        vertical-align: middle;\n",
       "    }\n",
       "\n",
       "    .dataframe tbody tr th {\n",
       "        vertical-align: top;\n",
       "    }\n",
       "\n",
       "    .dataframe thead th {\n",
       "        text-align: right;\n",
       "    }\n",
       "</style>\n",
       "<table border=\"1\" class=\"dataframe\">\n",
       "  <thead>\n",
       "    <tr style=\"text-align: right;\">\n",
       "      <th></th>\n",
       "      <th>APPLICATION_TYPE</th>\n",
       "      <th>AFFILIATION</th>\n",
       "      <th>CLASSIFICATION</th>\n",
       "      <th>USE_CASE</th>\n",
       "      <th>ORGANIZATION</th>\n",
       "      <th>STATUS</th>\n",
       "      <th>INCOME_AMT</th>\n",
       "      <th>SPECIAL_CONSIDERATIONS</th>\n",
       "      <th>ASK_AMT</th>\n",
       "      <th>IS_SUCCESSFUL</th>\n",
       "    </tr>\n",
       "  </thead>\n",
       "  <tbody>\n",
       "    <tr>\n",
       "      <th>0</th>\n",
       "      <td>T10</td>\n",
       "      <td>Independent</td>\n",
       "      <td>C1000</td>\n",
       "      <td>ProductDev</td>\n",
       "      <td>Association</td>\n",
       "      <td>1</td>\n",
       "      <td>0</td>\n",
       "      <td>N</td>\n",
       "      <td>5000</td>\n",
       "      <td>1</td>\n",
       "    </tr>\n",
       "    <tr>\n",
       "      <th>1</th>\n",
       "      <td>T3</td>\n",
       "      <td>Independent</td>\n",
       "      <td>C2000</td>\n",
       "      <td>Preservation</td>\n",
       "      <td>Co-operative</td>\n",
       "      <td>1</td>\n",
       "      <td>1-9999</td>\n",
       "      <td>N</td>\n",
       "      <td>108590</td>\n",
       "      <td>1</td>\n",
       "    </tr>\n",
       "    <tr>\n",
       "      <th>2</th>\n",
       "      <td>T5</td>\n",
       "      <td>CompanySponsored</td>\n",
       "      <td>C3000</td>\n",
       "      <td>ProductDev</td>\n",
       "      <td>Association</td>\n",
       "      <td>1</td>\n",
       "      <td>0</td>\n",
       "      <td>N</td>\n",
       "      <td>5000</td>\n",
       "      <td>0</td>\n",
       "    </tr>\n",
       "    <tr>\n",
       "      <th>3</th>\n",
       "      <td>T3</td>\n",
       "      <td>CompanySponsored</td>\n",
       "      <td>C2000</td>\n",
       "      <td>Preservation</td>\n",
       "      <td>Trust</td>\n",
       "      <td>1</td>\n",
       "      <td>10000-24999</td>\n",
       "      <td>N</td>\n",
       "      <td>6692</td>\n",
       "      <td>1</td>\n",
       "    </tr>\n",
       "    <tr>\n",
       "      <th>4</th>\n",
       "      <td>T3</td>\n",
       "      <td>Independent</td>\n",
       "      <td>C1000</td>\n",
       "      <td>Heathcare</td>\n",
       "      <td>Trust</td>\n",
       "      <td>1</td>\n",
       "      <td>100000-499999</td>\n",
       "      <td>N</td>\n",
       "      <td>142590</td>\n",
       "      <td>1</td>\n",
       "    </tr>\n",
       "  </tbody>\n",
       "</table>\n",
       "</div>"
      ],
      "text/plain": [
       "  APPLICATION_TYPE       AFFILIATION CLASSIFICATION      USE_CASE  \\\n",
       "0              T10       Independent          C1000    ProductDev   \n",
       "1               T3       Independent          C2000  Preservation   \n",
       "2               T5  CompanySponsored          C3000    ProductDev   \n",
       "3               T3  CompanySponsored          C2000  Preservation   \n",
       "4               T3       Independent          C1000     Heathcare   \n",
       "\n",
       "   ORGANIZATION  STATUS     INCOME_AMT SPECIAL_CONSIDERATIONS  ASK_AMT  \\\n",
       "0   Association       1              0                      N     5000   \n",
       "1  Co-operative       1         1-9999                      N   108590   \n",
       "2   Association       1              0                      N     5000   \n",
       "3         Trust       1    10000-24999                      N     6692   \n",
       "4         Trust       1  100000-499999                      N   142590   \n",
       "\n",
       "   IS_SUCCESSFUL  \n",
       "0              1  \n",
       "1              1  \n",
       "2              0  \n",
       "3              1  \n",
       "4              1  "
      ]
     },
     "execution_count": 58,
     "metadata": {},
     "output_type": "execute_result"
    }
   ],
   "source": [
    "# Drop the 'EIN' and 'NAME' columns from the DataFrame\n",
    "applicant_data_df = applicant_data_df.drop([\"EIN\", \"NAME\"], axis = 1)\n",
    "\n",
    "# Review the DataFrame\n",
    "applicant_data_df.head()"
   ]
  },
  {
   "cell_type": "markdown",
   "metadata": {},
   "source": [
    "### Step 3: Encode the dataset’s categorical variables using `OneHotEncoder`, and then place the encoded variables into a new DataFrame."
   ]
  },
  {
   "cell_type": "code",
   "execution_count": 59,
   "metadata": {},
   "outputs": [
    {
     "name": "stdout",
     "output_type": "stream",
     "text": [
      "The categorical variable column names are : ['APPLICATION_TYPE', 'AFFILIATION', 'CLASSIFICATION', 'USE_CASE', 'ORGANIZATION', 'INCOME_AMT', 'SPECIAL_CONSIDERATIONS']\n"
     ]
    }
   ],
   "source": [
    "# Create a list of categorical variables \n",
    "categorical_variables = applicant_data_df.select_dtypes(include=['object']).columns.tolist()\n",
    "\n",
    "# Display the categorical variables list\n",
    "print(f\"The categorical variable column names are : {categorical_variables}\")\n"
   ]
  },
  {
   "cell_type": "code",
   "execution_count": 60,
   "metadata": {},
   "outputs": [],
   "source": [
    "# Create a OneHotEncoder instance\n",
    "enc = OneHotEncoder()\n"
   ]
  },
  {
   "cell_type": "code",
   "execution_count": 61,
   "metadata": {},
   "outputs": [],
   "source": [
    "# Encode the categorcal variables using OneHotEncoder\n",
    "encoded_data = enc.fit_transform(applicant_data_df[categorical_variables])\n"
   ]
  },
  {
   "cell_type": "code",
   "execution_count": 62,
   "metadata": {},
   "outputs": [
    {
     "data": {
      "text/html": [
       "<div>\n",
       "<style scoped>\n",
       "    .dataframe tbody tr th:only-of-type {\n",
       "        vertical-align: middle;\n",
       "    }\n",
       "\n",
       "    .dataframe tbody tr th {\n",
       "        vertical-align: top;\n",
       "    }\n",
       "\n",
       "    .dataframe thead th {\n",
       "        text-align: right;\n",
       "    }\n",
       "</style>\n",
       "<table border=\"1\" class=\"dataframe\">\n",
       "  <thead>\n",
       "    <tr style=\"text-align: right;\">\n",
       "      <th></th>\n",
       "      <th>0</th>\n",
       "      <th>1</th>\n",
       "      <th>2</th>\n",
       "      <th>3</th>\n",
       "      <th>4</th>\n",
       "      <th>5</th>\n",
       "      <th>6</th>\n",
       "      <th>7</th>\n",
       "      <th>8</th>\n",
       "      <th>9</th>\n",
       "      <th>...</th>\n",
       "      <th>104</th>\n",
       "      <th>105</th>\n",
       "      <th>106</th>\n",
       "      <th>107</th>\n",
       "      <th>108</th>\n",
       "      <th>109</th>\n",
       "      <th>110</th>\n",
       "      <th>111</th>\n",
       "      <th>112</th>\n",
       "      <th>113</th>\n",
       "    </tr>\n",
       "  </thead>\n",
       "  <tbody>\n",
       "    <tr>\n",
       "      <th>0</th>\n",
       "      <td>1.0</td>\n",
       "      <td>0.0</td>\n",
       "      <td>0.0</td>\n",
       "      <td>0.0</td>\n",
       "      <td>0.0</td>\n",
       "      <td>0.0</td>\n",
       "      <td>0.0</td>\n",
       "      <td>0.0</td>\n",
       "      <td>0.0</td>\n",
       "      <td>0.0</td>\n",
       "      <td>...</td>\n",
       "      <td>0.0</td>\n",
       "      <td>0.0</td>\n",
       "      <td>0.0</td>\n",
       "      <td>0.0</td>\n",
       "      <td>0.0</td>\n",
       "      <td>0.0</td>\n",
       "      <td>0.0</td>\n",
       "      <td>0.0</td>\n",
       "      <td>1.0</td>\n",
       "      <td>0.0</td>\n",
       "    </tr>\n",
       "    <tr>\n",
       "      <th>1</th>\n",
       "      <td>0.0</td>\n",
       "      <td>0.0</td>\n",
       "      <td>0.0</td>\n",
       "      <td>0.0</td>\n",
       "      <td>0.0</td>\n",
       "      <td>0.0</td>\n",
       "      <td>0.0</td>\n",
       "      <td>0.0</td>\n",
       "      <td>0.0</td>\n",
       "      <td>0.0</td>\n",
       "      <td>...</td>\n",
       "      <td>1.0</td>\n",
       "      <td>0.0</td>\n",
       "      <td>0.0</td>\n",
       "      <td>0.0</td>\n",
       "      <td>0.0</td>\n",
       "      <td>0.0</td>\n",
       "      <td>0.0</td>\n",
       "      <td>0.0</td>\n",
       "      <td>1.0</td>\n",
       "      <td>0.0</td>\n",
       "    </tr>\n",
       "    <tr>\n",
       "      <th>2</th>\n",
       "      <td>0.0</td>\n",
       "      <td>0.0</td>\n",
       "      <td>0.0</td>\n",
       "      <td>0.0</td>\n",
       "      <td>0.0</td>\n",
       "      <td>0.0</td>\n",
       "      <td>0.0</td>\n",
       "      <td>0.0</td>\n",
       "      <td>0.0</td>\n",
       "      <td>0.0</td>\n",
       "      <td>...</td>\n",
       "      <td>0.0</td>\n",
       "      <td>0.0</td>\n",
       "      <td>0.0</td>\n",
       "      <td>0.0</td>\n",
       "      <td>0.0</td>\n",
       "      <td>0.0</td>\n",
       "      <td>0.0</td>\n",
       "      <td>0.0</td>\n",
       "      <td>1.0</td>\n",
       "      <td>0.0</td>\n",
       "    </tr>\n",
       "    <tr>\n",
       "      <th>3</th>\n",
       "      <td>0.0</td>\n",
       "      <td>0.0</td>\n",
       "      <td>0.0</td>\n",
       "      <td>0.0</td>\n",
       "      <td>0.0</td>\n",
       "      <td>0.0</td>\n",
       "      <td>0.0</td>\n",
       "      <td>0.0</td>\n",
       "      <td>0.0</td>\n",
       "      <td>0.0</td>\n",
       "      <td>...</td>\n",
       "      <td>0.0</td>\n",
       "      <td>1.0</td>\n",
       "      <td>0.0</td>\n",
       "      <td>0.0</td>\n",
       "      <td>0.0</td>\n",
       "      <td>0.0</td>\n",
       "      <td>0.0</td>\n",
       "      <td>0.0</td>\n",
       "      <td>1.0</td>\n",
       "      <td>0.0</td>\n",
       "    </tr>\n",
       "    <tr>\n",
       "      <th>4</th>\n",
       "      <td>0.0</td>\n",
       "      <td>0.0</td>\n",
       "      <td>0.0</td>\n",
       "      <td>0.0</td>\n",
       "      <td>0.0</td>\n",
       "      <td>0.0</td>\n",
       "      <td>0.0</td>\n",
       "      <td>0.0</td>\n",
       "      <td>0.0</td>\n",
       "      <td>0.0</td>\n",
       "      <td>...</td>\n",
       "      <td>0.0</td>\n",
       "      <td>0.0</td>\n",
       "      <td>1.0</td>\n",
       "      <td>0.0</td>\n",
       "      <td>0.0</td>\n",
       "      <td>0.0</td>\n",
       "      <td>0.0</td>\n",
       "      <td>0.0</td>\n",
       "      <td>1.0</td>\n",
       "      <td>0.0</td>\n",
       "    </tr>\n",
       "  </tbody>\n",
       "</table>\n",
       "<p>5 rows × 114 columns</p>\n",
       "</div>"
      ],
      "text/plain": [
       "   0    1    2    3    4    5    6    7    8    9    ...  104  105  106  107  \\\n",
       "0  1.0  0.0  0.0  0.0  0.0  0.0  0.0  0.0  0.0  0.0  ...  0.0  0.0  0.0  0.0   \n",
       "1  0.0  0.0  0.0  0.0  0.0  0.0  0.0  0.0  0.0  0.0  ...  1.0  0.0  0.0  0.0   \n",
       "2  0.0  0.0  0.0  0.0  0.0  0.0  0.0  0.0  0.0  0.0  ...  0.0  0.0  0.0  0.0   \n",
       "3  0.0  0.0  0.0  0.0  0.0  0.0  0.0  0.0  0.0  0.0  ...  0.0  1.0  0.0  0.0   \n",
       "4  0.0  0.0  0.0  0.0  0.0  0.0  0.0  0.0  0.0  0.0  ...  0.0  0.0  1.0  0.0   \n",
       "\n",
       "   108  109  110  111  112  113  \n",
       "0  0.0  0.0  0.0  0.0  1.0  0.0  \n",
       "1  0.0  0.0  0.0  0.0  1.0  0.0  \n",
       "2  0.0  0.0  0.0  0.0  1.0  0.0  \n",
       "3  0.0  0.0  0.0  0.0  1.0  0.0  \n",
       "4  0.0  0.0  0.0  0.0  1.0  0.0  \n",
       "\n",
       "[5 rows x 114 columns]"
      ]
     },
     "execution_count": 62,
     "metadata": {},
     "output_type": "execute_result"
    }
   ],
   "source": [
    "# Create a DataFrame with the encoded variables\n",
    "encoded_df = pd.DataFrame(encoded_data.toarray())\n",
    "\n",
    "# Review the DataFrame\n",
    "encoded_df.head()\n"
   ]
  },
  {
   "cell_type": "markdown",
   "metadata": {},
   "source": [
    "### Step 4: Add the original DataFrame’s numerical variables to the DataFrame containing the encoded variables.\n",
    "\n",
    "> **Note** To complete this step, you will employ the Pandas `concat()` function that was introduced earlier in this course. "
   ]
  },
  {
   "cell_type": "code",
   "execution_count": 63,
   "metadata": {},
   "outputs": [
    {
     "data": {
      "text/html": [
       "<div>\n",
       "<style scoped>\n",
       "    .dataframe tbody tr th:only-of-type {\n",
       "        vertical-align: middle;\n",
       "    }\n",
       "\n",
       "    .dataframe tbody tr th {\n",
       "        vertical-align: top;\n",
       "    }\n",
       "\n",
       "    .dataframe thead th {\n",
       "        text-align: right;\n",
       "    }\n",
       "</style>\n",
       "<table border=\"1\" class=\"dataframe\">\n",
       "  <thead>\n",
       "    <tr style=\"text-align: right;\">\n",
       "      <th></th>\n",
       "      <th>0</th>\n",
       "      <th>1</th>\n",
       "      <th>2</th>\n",
       "      <th>3</th>\n",
       "      <th>4</th>\n",
       "      <th>5</th>\n",
       "      <th>6</th>\n",
       "      <th>7</th>\n",
       "      <th>8</th>\n",
       "      <th>9</th>\n",
       "      <th>...</th>\n",
       "      <th>107</th>\n",
       "      <th>108</th>\n",
       "      <th>109</th>\n",
       "      <th>110</th>\n",
       "      <th>111</th>\n",
       "      <th>112</th>\n",
       "      <th>113</th>\n",
       "      <th>STATUS</th>\n",
       "      <th>ASK_AMT</th>\n",
       "      <th>IS_SUCCESSFUL</th>\n",
       "    </tr>\n",
       "  </thead>\n",
       "  <tbody>\n",
       "    <tr>\n",
       "      <th>0</th>\n",
       "      <td>1.0</td>\n",
       "      <td>0.0</td>\n",
       "      <td>0.0</td>\n",
       "      <td>0.0</td>\n",
       "      <td>0.0</td>\n",
       "      <td>0.0</td>\n",
       "      <td>0.0</td>\n",
       "      <td>0.0</td>\n",
       "      <td>0.0</td>\n",
       "      <td>0.0</td>\n",
       "      <td>...</td>\n",
       "      <td>0.0</td>\n",
       "      <td>0.0</td>\n",
       "      <td>0.0</td>\n",
       "      <td>0.0</td>\n",
       "      <td>0.0</td>\n",
       "      <td>1.0</td>\n",
       "      <td>0.0</td>\n",
       "      <td>1</td>\n",
       "      <td>5000</td>\n",
       "      <td>1</td>\n",
       "    </tr>\n",
       "    <tr>\n",
       "      <th>1</th>\n",
       "      <td>0.0</td>\n",
       "      <td>0.0</td>\n",
       "      <td>0.0</td>\n",
       "      <td>0.0</td>\n",
       "      <td>0.0</td>\n",
       "      <td>0.0</td>\n",
       "      <td>0.0</td>\n",
       "      <td>0.0</td>\n",
       "      <td>0.0</td>\n",
       "      <td>0.0</td>\n",
       "      <td>...</td>\n",
       "      <td>0.0</td>\n",
       "      <td>0.0</td>\n",
       "      <td>0.0</td>\n",
       "      <td>0.0</td>\n",
       "      <td>0.0</td>\n",
       "      <td>1.0</td>\n",
       "      <td>0.0</td>\n",
       "      <td>1</td>\n",
       "      <td>108590</td>\n",
       "      <td>1</td>\n",
       "    </tr>\n",
       "    <tr>\n",
       "      <th>2</th>\n",
       "      <td>0.0</td>\n",
       "      <td>0.0</td>\n",
       "      <td>0.0</td>\n",
       "      <td>0.0</td>\n",
       "      <td>0.0</td>\n",
       "      <td>0.0</td>\n",
       "      <td>0.0</td>\n",
       "      <td>0.0</td>\n",
       "      <td>0.0</td>\n",
       "      <td>0.0</td>\n",
       "      <td>...</td>\n",
       "      <td>0.0</td>\n",
       "      <td>0.0</td>\n",
       "      <td>0.0</td>\n",
       "      <td>0.0</td>\n",
       "      <td>0.0</td>\n",
       "      <td>1.0</td>\n",
       "      <td>0.0</td>\n",
       "      <td>1</td>\n",
       "      <td>5000</td>\n",
       "      <td>0</td>\n",
       "    </tr>\n",
       "    <tr>\n",
       "      <th>3</th>\n",
       "      <td>0.0</td>\n",
       "      <td>0.0</td>\n",
       "      <td>0.0</td>\n",
       "      <td>0.0</td>\n",
       "      <td>0.0</td>\n",
       "      <td>0.0</td>\n",
       "      <td>0.0</td>\n",
       "      <td>0.0</td>\n",
       "      <td>0.0</td>\n",
       "      <td>0.0</td>\n",
       "      <td>...</td>\n",
       "      <td>0.0</td>\n",
       "      <td>0.0</td>\n",
       "      <td>0.0</td>\n",
       "      <td>0.0</td>\n",
       "      <td>0.0</td>\n",
       "      <td>1.0</td>\n",
       "      <td>0.0</td>\n",
       "      <td>1</td>\n",
       "      <td>6692</td>\n",
       "      <td>1</td>\n",
       "    </tr>\n",
       "    <tr>\n",
       "      <th>4</th>\n",
       "      <td>0.0</td>\n",
       "      <td>0.0</td>\n",
       "      <td>0.0</td>\n",
       "      <td>0.0</td>\n",
       "      <td>0.0</td>\n",
       "      <td>0.0</td>\n",
       "      <td>0.0</td>\n",
       "      <td>0.0</td>\n",
       "      <td>0.0</td>\n",
       "      <td>0.0</td>\n",
       "      <td>...</td>\n",
       "      <td>0.0</td>\n",
       "      <td>0.0</td>\n",
       "      <td>0.0</td>\n",
       "      <td>0.0</td>\n",
       "      <td>0.0</td>\n",
       "      <td>1.0</td>\n",
       "      <td>0.0</td>\n",
       "      <td>1</td>\n",
       "      <td>142590</td>\n",
       "      <td>1</td>\n",
       "    </tr>\n",
       "  </tbody>\n",
       "</table>\n",
       "<p>5 rows × 117 columns</p>\n",
       "</div>"
      ],
      "text/plain": [
       "     0    1    2    3    4    5    6    7    8    9  ...  107  108  109  110  \\\n",
       "0  1.0  0.0  0.0  0.0  0.0  0.0  0.0  0.0  0.0  0.0  ...  0.0  0.0  0.0  0.0   \n",
       "1  0.0  0.0  0.0  0.0  0.0  0.0  0.0  0.0  0.0  0.0  ...  0.0  0.0  0.0  0.0   \n",
       "2  0.0  0.0  0.0  0.0  0.0  0.0  0.0  0.0  0.0  0.0  ...  0.0  0.0  0.0  0.0   \n",
       "3  0.0  0.0  0.0  0.0  0.0  0.0  0.0  0.0  0.0  0.0  ...  0.0  0.0  0.0  0.0   \n",
       "4  0.0  0.0  0.0  0.0  0.0  0.0  0.0  0.0  0.0  0.0  ...  0.0  0.0  0.0  0.0   \n",
       "\n",
       "   111  112  113  STATUS  ASK_AMT  IS_SUCCESSFUL  \n",
       "0  0.0  1.0  0.0       1     5000              1  \n",
       "1  0.0  1.0  0.0       1   108590              1  \n",
       "2  0.0  1.0  0.0       1     5000              0  \n",
       "3  0.0  1.0  0.0       1     6692              1  \n",
       "4  0.0  1.0  0.0       1   142590              1  \n",
       "\n",
       "[5 rows x 117 columns]"
      ]
     },
     "execution_count": 63,
     "metadata": {},
     "output_type": "execute_result"
    }
   ],
   "source": [
    "# Add the numerical variables from the original DataFrame to the one-hot encoding DataFrame\n",
    "encoded_df = pd.concat([encoded_df, applicant_data_df.select_dtypes(include=['int64'])], axis = 1)\n",
    "\n",
    "# Review the Dataframe\n",
    "encoded_df.head()\n"
   ]
  },
  {
   "cell_type": "markdown",
   "metadata": {},
   "source": [
    "### Step 5: Using the preprocessed data, create the features (`X`) and target (`y`) datasets. The target dataset should be defined by the preprocessed DataFrame column “IS_SUCCESSFUL”. The remaining columns should define the features dataset. \n",
    "\n"
   ]
  },
  {
   "cell_type": "code",
   "execution_count": 64,
   "metadata": {},
   "outputs": [
    {
     "data": {
      "text/plain": [
       "0    1\n",
       "1    1\n",
       "2    0\n",
       "3    1\n",
       "4    1\n",
       "Name: IS_SUCCESSFUL, dtype: int64"
      ]
     },
     "execution_count": 64,
     "metadata": {},
     "output_type": "execute_result"
    }
   ],
   "source": [
    "# Define the target set y using the IS_SUCCESSFUL column\n",
    "y = encoded_df[\"IS_SUCCESSFUL\"]\n",
    "\n",
    "# Display a sample of y\n",
    "y.head()\n"
   ]
  },
  {
   "cell_type": "code",
   "execution_count": 65,
   "metadata": {},
   "outputs": [
    {
     "data": {
      "text/html": [
       "<div>\n",
       "<style scoped>\n",
       "    .dataframe tbody tr th:only-of-type {\n",
       "        vertical-align: middle;\n",
       "    }\n",
       "\n",
       "    .dataframe tbody tr th {\n",
       "        vertical-align: top;\n",
       "    }\n",
       "\n",
       "    .dataframe thead th {\n",
       "        text-align: right;\n",
       "    }\n",
       "</style>\n",
       "<table border=\"1\" class=\"dataframe\">\n",
       "  <thead>\n",
       "    <tr style=\"text-align: right;\">\n",
       "      <th></th>\n",
       "      <th>0</th>\n",
       "      <th>1</th>\n",
       "      <th>2</th>\n",
       "      <th>3</th>\n",
       "      <th>4</th>\n",
       "      <th>5</th>\n",
       "      <th>6</th>\n",
       "      <th>7</th>\n",
       "      <th>8</th>\n",
       "      <th>9</th>\n",
       "      <th>...</th>\n",
       "      <th>106</th>\n",
       "      <th>107</th>\n",
       "      <th>108</th>\n",
       "      <th>109</th>\n",
       "      <th>110</th>\n",
       "      <th>111</th>\n",
       "      <th>112</th>\n",
       "      <th>113</th>\n",
       "      <th>STATUS</th>\n",
       "      <th>ASK_AMT</th>\n",
       "    </tr>\n",
       "  </thead>\n",
       "  <tbody>\n",
       "    <tr>\n",
       "      <th>0</th>\n",
       "      <td>1.0</td>\n",
       "      <td>0.0</td>\n",
       "      <td>0.0</td>\n",
       "      <td>0.0</td>\n",
       "      <td>0.0</td>\n",
       "      <td>0.0</td>\n",
       "      <td>0.0</td>\n",
       "      <td>0.0</td>\n",
       "      <td>0.0</td>\n",
       "      <td>0.0</td>\n",
       "      <td>...</td>\n",
       "      <td>0.0</td>\n",
       "      <td>0.0</td>\n",
       "      <td>0.0</td>\n",
       "      <td>0.0</td>\n",
       "      <td>0.0</td>\n",
       "      <td>0.0</td>\n",
       "      <td>1.0</td>\n",
       "      <td>0.0</td>\n",
       "      <td>1</td>\n",
       "      <td>5000</td>\n",
       "    </tr>\n",
       "    <tr>\n",
       "      <th>1</th>\n",
       "      <td>0.0</td>\n",
       "      <td>0.0</td>\n",
       "      <td>0.0</td>\n",
       "      <td>0.0</td>\n",
       "      <td>0.0</td>\n",
       "      <td>0.0</td>\n",
       "      <td>0.0</td>\n",
       "      <td>0.0</td>\n",
       "      <td>0.0</td>\n",
       "      <td>0.0</td>\n",
       "      <td>...</td>\n",
       "      <td>0.0</td>\n",
       "      <td>0.0</td>\n",
       "      <td>0.0</td>\n",
       "      <td>0.0</td>\n",
       "      <td>0.0</td>\n",
       "      <td>0.0</td>\n",
       "      <td>1.0</td>\n",
       "      <td>0.0</td>\n",
       "      <td>1</td>\n",
       "      <td>108590</td>\n",
       "    </tr>\n",
       "    <tr>\n",
       "      <th>2</th>\n",
       "      <td>0.0</td>\n",
       "      <td>0.0</td>\n",
       "      <td>0.0</td>\n",
       "      <td>0.0</td>\n",
       "      <td>0.0</td>\n",
       "      <td>0.0</td>\n",
       "      <td>0.0</td>\n",
       "      <td>0.0</td>\n",
       "      <td>0.0</td>\n",
       "      <td>0.0</td>\n",
       "      <td>...</td>\n",
       "      <td>0.0</td>\n",
       "      <td>0.0</td>\n",
       "      <td>0.0</td>\n",
       "      <td>0.0</td>\n",
       "      <td>0.0</td>\n",
       "      <td>0.0</td>\n",
       "      <td>1.0</td>\n",
       "      <td>0.0</td>\n",
       "      <td>1</td>\n",
       "      <td>5000</td>\n",
       "    </tr>\n",
       "    <tr>\n",
       "      <th>3</th>\n",
       "      <td>0.0</td>\n",
       "      <td>0.0</td>\n",
       "      <td>0.0</td>\n",
       "      <td>0.0</td>\n",
       "      <td>0.0</td>\n",
       "      <td>0.0</td>\n",
       "      <td>0.0</td>\n",
       "      <td>0.0</td>\n",
       "      <td>0.0</td>\n",
       "      <td>0.0</td>\n",
       "      <td>...</td>\n",
       "      <td>0.0</td>\n",
       "      <td>0.0</td>\n",
       "      <td>0.0</td>\n",
       "      <td>0.0</td>\n",
       "      <td>0.0</td>\n",
       "      <td>0.0</td>\n",
       "      <td>1.0</td>\n",
       "      <td>0.0</td>\n",
       "      <td>1</td>\n",
       "      <td>6692</td>\n",
       "    </tr>\n",
       "    <tr>\n",
       "      <th>4</th>\n",
       "      <td>0.0</td>\n",
       "      <td>0.0</td>\n",
       "      <td>0.0</td>\n",
       "      <td>0.0</td>\n",
       "      <td>0.0</td>\n",
       "      <td>0.0</td>\n",
       "      <td>0.0</td>\n",
       "      <td>0.0</td>\n",
       "      <td>0.0</td>\n",
       "      <td>0.0</td>\n",
       "      <td>...</td>\n",
       "      <td>1.0</td>\n",
       "      <td>0.0</td>\n",
       "      <td>0.0</td>\n",
       "      <td>0.0</td>\n",
       "      <td>0.0</td>\n",
       "      <td>0.0</td>\n",
       "      <td>1.0</td>\n",
       "      <td>0.0</td>\n",
       "      <td>1</td>\n",
       "      <td>142590</td>\n",
       "    </tr>\n",
       "  </tbody>\n",
       "</table>\n",
       "<p>5 rows × 116 columns</p>\n",
       "</div>"
      ],
      "text/plain": [
       "     0    1    2    3    4    5    6    7    8    9  ...  106  107  108  109  \\\n",
       "0  1.0  0.0  0.0  0.0  0.0  0.0  0.0  0.0  0.0  0.0  ...  0.0  0.0  0.0  0.0   \n",
       "1  0.0  0.0  0.0  0.0  0.0  0.0  0.0  0.0  0.0  0.0  ...  0.0  0.0  0.0  0.0   \n",
       "2  0.0  0.0  0.0  0.0  0.0  0.0  0.0  0.0  0.0  0.0  ...  0.0  0.0  0.0  0.0   \n",
       "3  0.0  0.0  0.0  0.0  0.0  0.0  0.0  0.0  0.0  0.0  ...  0.0  0.0  0.0  0.0   \n",
       "4  0.0  0.0  0.0  0.0  0.0  0.0  0.0  0.0  0.0  0.0  ...  1.0  0.0  0.0  0.0   \n",
       "\n",
       "   110  111  112  113  STATUS  ASK_AMT  \n",
       "0  0.0  0.0  1.0  0.0       1     5000  \n",
       "1  0.0  0.0  1.0  0.0       1   108590  \n",
       "2  0.0  0.0  1.0  0.0       1     5000  \n",
       "3  0.0  0.0  1.0  0.0       1     6692  \n",
       "4  0.0  0.0  1.0  0.0       1   142590  \n",
       "\n",
       "[5 rows x 116 columns]"
      ]
     },
     "execution_count": 65,
     "metadata": {},
     "output_type": "execute_result"
    }
   ],
   "source": [
    "# Define features set X by selecting all columns but IS_SUCCESSFUL\n",
    "X = encoded_df.drop(\"IS_SUCCESSFUL\", axis = 1)\n",
    "\n",
    "# Review the features DataFrame\n",
    "X.head()\n"
   ]
  },
  {
   "cell_type": "markdown",
   "metadata": {},
   "source": [
    "### Step 6: Split the features and target sets into training and testing datasets.\n"
   ]
  },
  {
   "cell_type": "code",
   "execution_count": 66,
   "metadata": {},
   "outputs": [],
   "source": [
    "# Split the preprocessed data into a training and testing dataset\n",
    "# Assign the function a random_state equal to 1\n",
    "X_train, X_test, y_train, y_test = train_test_split(X,y, test_size = 0.3, random_state = 1)\n"
   ]
  },
  {
   "cell_type": "code",
   "execution_count": 67,
   "metadata": {},
   "outputs": [
    {
     "data": {
      "text/plain": [
       "(24009, 116)"
      ]
     },
     "execution_count": 67,
     "metadata": {},
     "output_type": "execute_result"
    }
   ],
   "source": [
    "X_train.shape"
   ]
  },
  {
   "cell_type": "markdown",
   "metadata": {},
   "source": [
    "### Step 7: Use scikit-learn's `StandardScaler` to scale the features data."
   ]
  },
  {
   "cell_type": "code",
   "execution_count": 68,
   "metadata": {},
   "outputs": [
    {
     "name": "stderr",
     "output_type": "stream",
     "text": [
      "C:\\Users\\bjaji\\anaconda3\\envs\\dev\\lib\\site-packages\\sklearn\\utils\\validation.py:1679: FutureWarning: Feature names only support names that are all strings. Got feature names with dtypes: ['int', 'str']. An error will be raised in 1.2.\n",
      "  FutureWarning,\n",
      "C:\\Users\\bjaji\\anaconda3\\envs\\dev\\lib\\site-packages\\sklearn\\utils\\validation.py:1679: FutureWarning: Feature names only support names that are all strings. Got feature names with dtypes: ['int', 'str']. An error will be raised in 1.2.\n",
      "  FutureWarning,\n",
      "C:\\Users\\bjaji\\anaconda3\\envs\\dev\\lib\\site-packages\\sklearn\\utils\\validation.py:1679: FutureWarning: Feature names only support names that are all strings. Got feature names with dtypes: ['int', 'str']. An error will be raised in 1.2.\n",
      "  FutureWarning,\n"
     ]
    }
   ],
   "source": [
    "# Create a StandardScaler instance\n",
    "scaler = StandardScaler()\n",
    "\n",
    "# Fit the scaler to the features training dataset\n",
    "X_scaler = scaler.fit(X_train)\n",
    "\n",
    "# Fit the scaler to the features training dataset\n",
    "X_train_scaled = scaler.transform(X_train)\n",
    "X_test_scaled = scaler.transform(X_test)\n"
   ]
  },
  {
   "cell_type": "markdown",
   "metadata": {},
   "source": [
    "---\n",
    "\n",
    "## Compile and Evaluate a Binary Classification Model Using a Neural Network"
   ]
  },
  {
   "cell_type": "markdown",
   "metadata": {},
   "source": [
    "### Step 1: Create a deep neural network by assigning the number of input features, the number of layers, and the number of neurons on each layer using Tensorflow’s Keras.\n",
    "\n",
    "> **Hint** You can start with a two-layer deep neural network model that uses the `relu` activation function for both layers.\n"
   ]
  },
  {
   "cell_type": "code",
   "execution_count": 69,
   "metadata": {},
   "outputs": [
    {
     "data": {
      "text/plain": [
       "116"
      ]
     },
     "execution_count": 69,
     "metadata": {},
     "output_type": "execute_result"
    }
   ],
   "source": [
    "# Define the the number of inputs (features) to the model\n",
    "number_input_features = X.shape[1]\n",
    "\n",
    "# Review the number of features\n",
    "number_input_features\n"
   ]
  },
  {
   "cell_type": "code",
   "execution_count": 70,
   "metadata": {},
   "outputs": [],
   "source": [
    "# Define the number of neurons in the output layer\n",
    "number_output_neurons = 1"
   ]
  },
  {
   "cell_type": "code",
   "execution_count": 71,
   "metadata": {},
   "outputs": [
    {
     "data": {
      "text/plain": [
       "1000"
      ]
     },
     "execution_count": 71,
     "metadata": {},
     "output_type": "execute_result"
    }
   ],
   "source": [
    "# Define the number of hidden nodes for the first hidden layer\n",
    "hidden_nodes_layer1 =  1000\n",
    "\n",
    "# Review the number hidden nodes in the first layer\n",
    "hidden_nodes_layer1\n"
   ]
  },
  {
   "cell_type": "code",
   "execution_count": 72,
   "metadata": {},
   "outputs": [
    {
     "data": {
      "text/plain": [
       "100"
      ]
     },
     "execution_count": 72,
     "metadata": {},
     "output_type": "execute_result"
    }
   ],
   "source": [
    "# Define the number of hidden nodes for the second hidden layer\n",
    "hidden_nodes_layer2 =  100\n",
    "\n",
    "# Review the number hidden nodes in the second layer\n",
    "hidden_nodes_layer2\n"
   ]
  },
  {
   "cell_type": "code",
   "execution_count": 73,
   "metadata": {},
   "outputs": [],
   "source": [
    "# Create the Sequential model instance\n",
    "nn = Sequential()\n",
    "nn.add(Input(shape=(number_input_features,)))"
   ]
  },
  {
   "cell_type": "code",
   "execution_count": 74,
   "metadata": {},
   "outputs": [],
   "source": [
    "# Add the first hidden layer\n",
    "nn.add(Dense(hidden_nodes_layer1, activation=\"relu\"))\n"
   ]
  },
  {
   "cell_type": "code",
   "execution_count": 75,
   "metadata": {},
   "outputs": [],
   "source": [
    "# Add the second hidden layer\n",
    "nn.add(Dense(hidden_nodes_layer2, activation=\"relu\"))\n"
   ]
  },
  {
   "cell_type": "code",
   "execution_count": 76,
   "metadata": {},
   "outputs": [],
   "source": [
    "# Add the output layer to the model specifying the number of output neurons and activation function\n",
    "nn.add(Dense(number_output_neurons, activation=\"relu\"))\n"
   ]
  },
  {
   "cell_type": "code",
   "execution_count": 77,
   "metadata": {},
   "outputs": [
    {
     "name": "stdout",
     "output_type": "stream",
     "text": [
      "Model: \"sequential_6\"\n",
      "_________________________________________________________________\n",
      "Layer (type)                 Output Shape              Param #   \n",
      "=================================================================\n",
      "dense_10 (Dense)             (None, 1000)              117000    \n",
      "_________________________________________________________________\n",
      "dense_11 (Dense)             (None, 100)               100100    \n",
      "_________________________________________________________________\n",
      "dense_12 (Dense)             (None, 1)                 101       \n",
      "=================================================================\n",
      "Total params: 217,201\n",
      "Trainable params: 217,201\n",
      "Non-trainable params: 0\n",
      "_________________________________________________________________\n"
     ]
    }
   ],
   "source": [
    "# Display the Sequential model summary\n",
    "nn.summary()"
   ]
  },
  {
   "cell_type": "markdown",
   "metadata": {},
   "source": [
    "### Step 2: Compile and fit the model using the `binary_crossentropy` loss function, the `adam` optimizer, and the `accuracy` evaluation metric.\n"
   ]
  },
  {
   "cell_type": "code",
   "execution_count": 78,
   "metadata": {},
   "outputs": [],
   "source": [
    "# Compile the Sequential model\n",
    "nn.compile(loss = 'binary_crossentropy',optimizer = 'adam', metrics = ['accuracy'])\n"
   ]
  },
  {
   "cell_type": "code",
   "execution_count": 79,
   "metadata": {},
   "outputs": [
    {
     "name": "stdout",
     "output_type": "stream",
     "text": [
      "Epoch 1/50\n",
      "24009/24009 [==============================] - 2s 78us/sample - loss: 1.2176 - acc: 0.6940\n",
      "Epoch 2/50\n",
      "24009/24009 [==============================] - 2s 68us/sample - loss: 0.8019 - acc: 0.7151\n",
      "Epoch 3/50\n",
      "24009/24009 [==============================] - 2s 70us/sample - loss: 0.7423 - acc: 0.7192\n",
      "Epoch 4/50\n",
      "24009/24009 [==============================] - 2s 68us/sample - loss: 0.7067 - acc: 0.7149\n",
      "Epoch 5/50\n",
      "24009/24009 [==============================] - 2s 67us/sample - loss: 0.6909 - acc: 0.7270\n",
      "Epoch 6/50\n",
      "24009/24009 [==============================] - 2s 69us/sample - loss: 0.6949 - acc: 0.7258\n",
      "Epoch 7/50\n",
      "24009/24009 [==============================] - 2s 69us/sample - loss: 0.7065 - acc: 0.7224\n",
      "Epoch 8/50\n",
      "24009/24009 [==============================] - 2s 67us/sample - loss: 0.7105 - acc: 0.71961s - lo\n",
      "Epoch 9/50\n",
      "24009/24009 [==============================] - 2s 68us/sample - loss: 0.6855 - acc: 0.72090s - loss: 0.701\n",
      "Epoch 10/50\n",
      "24009/24009 [==============================] - 2s 80us/sample - loss: 0.6658 - acc: 0.72610s - loss: 0.6737\n",
      "Epoch 11/50\n",
      "24009/24009 [==============================] - 2s 79us/sample - loss: 0.6880 - acc: 0.7216\n",
      "Epoch 12/50\n",
      "24009/24009 [==============================] - 2s 80us/sample - loss: 0.6536 - acc: 0.7259\n",
      "Epoch 13/50\n",
      "24009/24009 [==============================] - 2s 79us/sample - loss: 0.6754 - acc: 0.71480s - loss: 0\n",
      "Epoch 14/50\n",
      "24009/24009 [==============================] - 2s 83us/sample - loss: 0.6730 - acc: 0.7253\n",
      "Epoch 15/50\n",
      "24009/24009 [==============================] - 2s 80us/sample - loss: 0.6676 - acc: 0.7193\n",
      "Epoch 16/50\n",
      "24009/24009 [==============================] - 2s 76us/sample - loss: 0.6409 - acc: 0.7220\n",
      "Epoch 17/50\n",
      "24009/24009 [==============================] - 2s 77us/sample - loss: 0.6670 - acc: 0.7204\n",
      "Epoch 18/50\n",
      "24009/24009 [==============================] - 2s 79us/sample - loss: 0.6489 - acc: 0.7191\n",
      "Epoch 19/50\n",
      "24009/24009 [==============================] - 2s 84us/sample - loss: 0.6614 - acc: 0.7141\n",
      "Epoch 20/50\n",
      "24009/24009 [==============================] - 2s 91us/sample - loss: 0.7815 - acc: 0.7138\n",
      "Epoch 21/50\n",
      "24009/24009 [==============================] - 2s 93us/sample - loss: 0.6586 - acc: 0.7286\n",
      "Epoch 22/50\n",
      "24009/24009 [==============================] - 2s 85us/sample - loss: 0.6939 - acc: 0.7079\n",
      "Epoch 23/50\n",
      "24009/24009 [==============================] - 2s 98us/sample - loss: 0.6855 - acc: 0.7108\n",
      "Epoch 24/50\n",
      "24009/24009 [==============================] - 2s 104us/sample - loss: 0.6668 - acc: 0.7274\n",
      "Epoch 25/50\n",
      "24009/24009 [==============================] - 2s 90us/sample - loss: 0.6699 - acc: 0.7279\n",
      "Epoch 26/50\n",
      "24009/24009 [==============================] - 2s 92us/sample - loss: 0.7097 - acc: 0.7199\n",
      "Epoch 27/50\n",
      "24009/24009 [==============================] - 2s 89us/sample - loss: 0.7278 - acc: 0.72392s - loss: 0.6827 - acc: 0.73 -\n",
      "Epoch 28/50\n",
      "24009/24009 [==============================] - 2s 87us/sample - loss: 0.6956 - acc: 0.7059\n",
      "Epoch 29/50\n",
      "24009/24009 [==============================] - 2s 86us/sample - loss: 0.6568 - acc: 0.72190s - loss: 0.6530 - acc: 0.\n",
      "Epoch 30/50\n",
      "24009/24009 [==============================] - 2s 84us/sample - loss: 0.6498 - acc: 0.7210\n",
      "Epoch 31/50\n",
      "24009/24009 [==============================] - 2s 88us/sample - loss: 0.6572 - acc: 0.7009\n",
      "Epoch 32/50\n",
      "24009/24009 [==============================] - 2s 86us/sample - loss: 0.6490 - acc: 0.7240\n",
      "Epoch 33/50\n",
      "24009/24009 [==============================] - 2s 84us/sample - loss: 0.6160 - acc: 0.7269\n",
      "Epoch 34/50\n",
      "24009/24009 [==============================] - 2s 87us/sample - loss: 0.6097 - acc: 0.72961s - lo\n",
      "Epoch 35/50\n",
      "24009/24009 [==============================] - 2s 86us/sample - loss: 0.6242 - acc: 0.72180s - loss: 0.6281 -\n",
      "Epoch 36/50\n",
      "24009/24009 [==============================] - 2s 88us/sample - loss: 0.6064 - acc: 0.7228\n",
      "Epoch 37/50\n",
      "24009/24009 [==============================] - 2s 98us/sample - loss: 0.6164 - acc: 0.7098\n",
      "Epoch 38/50\n",
      "24009/24009 [==============================] - 2s 90us/sample - loss: 0.6021 - acc: 0.7277\n",
      "Epoch 39/50\n",
      "24009/24009 [==============================] - 2s 88us/sample - loss: 0.6131 - acc: 0.7316\n",
      "Epoch 40/50\n",
      "24009/24009 [==============================] - 2s 91us/sample - loss: 0.6047 - acc: 0.7274\n",
      "Epoch 41/50\n",
      "24009/24009 [==============================] - 2s 90us/sample - loss: 0.5982 - acc: 0.7316\n",
      "Epoch 42/50\n",
      "24009/24009 [==============================] - 2s 87us/sample - loss: 0.6495 - acc: 0.7170\n",
      "Epoch 43/50\n",
      "24009/24009 [==============================] - 2s 87us/sample - loss: 0.7466 - acc: 0.7231\n",
      "Epoch 44/50\n",
      "24009/24009 [==============================] - 2s 88us/sample - loss: 0.6912 - acc: 0.7047\n",
      "Epoch 45/50\n",
      "24009/24009 [==============================] - 2s 88us/sample - loss: 0.6551 - acc: 0.7286\n",
      "Epoch 46/50\n",
      "24009/24009 [==============================] - 2s 97us/sample - loss: 0.6210 - acc: 0.73051s\n",
      "Epoch 47/50\n",
      "24009/24009 [==============================] - 2s 98us/sample - loss: 0.6620 - acc: 0.7094\n",
      "Epoch 48/50\n",
      "24009/24009 [==============================] - 2s 96us/sample - loss: 0.6274 - acc: 0.7308\n",
      "Epoch 49/50\n",
      "24009/24009 [==============================] - 2s 90us/sample - loss: 0.6290 - acc: 0.7214\n",
      "Epoch 50/50\n",
      "24009/24009 [==============================] - 2s 76us/sample - loss: 0.6343 - acc: 0.7222\n"
     ]
    },
    {
     "data": {
      "text/plain": [
       "<tensorflow.python.keras.callbacks.History at 0x1970c587ac8>"
      ]
     },
     "execution_count": 79,
     "metadata": {},
     "output_type": "execute_result"
    }
   ],
   "source": [
    "# Fit the model using 50 epochs and the training data\n",
    "nn.fit(X_train_scaled, y_train, epochs = 50)\n"
   ]
  },
  {
   "cell_type": "markdown",
   "metadata": {},
   "source": [
    "### Step 3: Evaluate the model using the test data to determine the model’s loss and accuracy.\n"
   ]
  },
  {
   "cell_type": "code",
   "execution_count": 80,
   "metadata": {},
   "outputs": [
    {
     "name": "stdout",
     "output_type": "stream",
     "text": [
      "Loss: 0.593671538646761, Accuracy: 0.718853235244751\n"
     ]
    }
   ],
   "source": [
    "# Evaluate the model loss and accuracy metrics using the evaluate method and the test data\n",
    "model_loss, model_accuracy = nn.evaluate(X_test_scaled, y_test, verbose = 0) \n",
    "\n",
    "# Display the model loss and accuracy results\n",
    "print(f\"Loss: {model_loss}, Accuracy: {model_accuracy}\")"
   ]
  },
  {
   "cell_type": "markdown",
   "metadata": {},
   "source": [
    "### Step 4: Save and export your model to an HDF5 file, and name the file `AlphabetSoup.h5`. \n"
   ]
  },
  {
   "cell_type": "code",
   "execution_count": 81,
   "metadata": {},
   "outputs": [],
   "source": [
    "# Set the model's file path\n",
    "file_path = \"./\"\n",
    "\n",
    "# Export your model to a HDF5 file\n",
    "nn.save(file_path + \"AlphabetSoup.h5\")"
   ]
  },
  {
   "cell_type": "markdown",
   "metadata": {},
   "source": [
    "---\n",
    "\n",
    "## Optimize the neural network model\n"
   ]
  },
  {
   "cell_type": "markdown",
   "metadata": {},
   "source": [
    "### Step 1: Define at least three new deep neural network models (resulting in the original plus 3 optimization attempts). With each, try to improve on your first model’s predictive accuracy.\n",
    "\n",
    "> **Rewind** Recall that perfect accuracy has a value of 1, so accuracy improves as its value moves closer to 1. To optimize your model for a predictive accuracy as close to 1 as possible, you can use any or all of the following techniques:\n",
    ">\n",
    "> * Adjust the input data by dropping different features columns to ensure that no variables or outliers confuse the model.\n",
    ">\n",
    "> * Add more neurons (nodes) to a hidden layer.\n",
    ">\n",
    "> * Add more hidden layers.\n",
    ">\n",
    "> * Use different activation functions for the hidden layers.\n",
    ">\n",
    "> * Add to or reduce the number of epochs in the training regimen.\n"
   ]
  },
  {
   "cell_type": "markdown",
   "metadata": {},
   "source": [
    "### Alternative Model 1"
   ]
  },
  {
   "cell_type": "code",
   "execution_count": 82,
   "metadata": {},
   "outputs": [
    {
     "data": {
      "text/plain": [
       "116"
      ]
     },
     "execution_count": 82,
     "metadata": {},
     "output_type": "execute_result"
    }
   ],
   "source": [
    "# Define the the number of inputs (features) to the model\n",
    "number_input_features = len(X_train.iloc[0])\n",
    "\n",
    "# Review the number of features\n",
    "number_input_features"
   ]
  },
  {
   "cell_type": "code",
   "execution_count": 83,
   "metadata": {},
   "outputs": [],
   "source": [
    "# Define the number of neurons in the output layer\n",
    "number_output_neurons_A1 = 1"
   ]
  },
  {
   "cell_type": "code",
   "execution_count": 84,
   "metadata": {},
   "outputs": [
    {
     "data": {
      "text/plain": [
       "100"
      ]
     },
     "execution_count": 84,
     "metadata": {},
     "output_type": "execute_result"
    }
   ],
   "source": [
    "# Define the number of hidden nodes for the first hidden layer\n",
    "hidden_nodes_layer1_A1 = 100\n",
    "\n",
    "# Review the number of hidden nodes in the first layer\n",
    "hidden_nodes_layer1_A1"
   ]
  },
  {
   "cell_type": "code",
   "execution_count": 85,
   "metadata": {},
   "outputs": [],
   "source": [
    "# Create the Sequential model instance\n",
    "nn_A1 = Sequential()\n",
    "nn_A1.add(Input(shape=(number_input_features,)))"
   ]
  },
  {
   "cell_type": "code",
   "execution_count": 86,
   "metadata": {},
   "outputs": [
    {
     "name": "stdout",
     "output_type": "stream",
     "text": [
      "Model: \"sequential_7\"\n",
      "_________________________________________________________________\n",
      "Layer (type)                 Output Shape              Param #   \n",
      "=================================================================\n",
      "dense_13 (Dense)             (None, 100)               11700     \n",
      "_________________________________________________________________\n",
      "dense_14 (Dense)             (None, 1)                 101       \n",
      "=================================================================\n",
      "Total params: 11,801\n",
      "Trainable params: 11,801\n",
      "Non-trainable params: 0\n",
      "_________________________________________________________________\n"
     ]
    }
   ],
   "source": [
    "# First hidden layer\n",
    "nn_A1.add(Dense(hidden_nodes_layer1_A1, activation=\"tanh\"))\n",
    "\n",
    "# Output layer\n",
    "nn_A1.add(Dense(number_output_neurons_A1, activation=\"tanh\"))\n",
    "\n",
    "\n",
    "# Check the structure of the model\n",
    "nn_A1.summary()"
   ]
  },
  {
   "cell_type": "code",
   "execution_count": 87,
   "metadata": {},
   "outputs": [],
   "source": [
    "# Compile the Sequential model\n",
    "nn_A1.compile(loss = 'binary_crossentropy',optimizer = 'adam', metrics = ['accuracy'])\n"
   ]
  },
  {
   "cell_type": "code",
   "execution_count": 88,
   "metadata": {},
   "outputs": [
    {
     "name": "stdout",
     "output_type": "stream",
     "text": [
      "Epoch 1/50\n",
      "24009/24009 [==============================] - 1s 47us/sample - loss: 1.4261 - acc: 0.6452\n",
      "Epoch 2/50\n",
      "24009/24009 [==============================] - 1s 43us/sample - loss: 1.1769 - acc: 0.7000\n",
      "Epoch 3/50\n",
      "24009/24009 [==============================] - 1s 43us/sample - loss: 1.1862 - acc: 0.6978\n",
      "Epoch 4/50\n",
      "24009/24009 [==============================] - 1s 41us/sample - loss: 1.1582 - acc: 0.6993\n",
      "Epoch 5/50\n",
      "24009/24009 [==============================] - 1s 43us/sample - loss: 1.1660 - acc: 0.7007\n",
      "Epoch 6/50\n",
      "24009/24009 [==============================] - 1s 49us/sample - loss: 1.1824 - acc: 0.6927\n",
      "Epoch 7/50\n",
      "24009/24009 [==============================] - 1s 47us/sample - loss: 1.1395 - acc: 0.7027\n",
      "Epoch 8/50\n",
      "24009/24009 [==============================] - 1s 51us/sample - loss: 1.0834 - acc: 0.6871\n",
      "Epoch 9/50\n",
      "24009/24009 [==============================] - 1s 53us/sample - loss: 1.6035 - acc: 0.6006\n",
      "Epoch 10/50\n",
      "24009/24009 [==============================] - 1s 44us/sample - loss: 1.0271 - acc: 0.6917\n",
      "Epoch 11/50\n",
      "24009/24009 [==============================] - 1s 54us/sample - loss: 1.0026 - acc: 0.7039\n",
      "Epoch 12/50\n",
      "24009/24009 [==============================] - 1s 56us/sample - loss: 1.0048 - acc: 0.7106\n",
      "Epoch 13/50\n",
      "24009/24009 [==============================] - 1s 51us/sample - loss: 1.0025 - acc: 0.7095\n",
      "Epoch 14/50\n",
      "24009/24009 [==============================] - 2s 68us/sample - loss: 1.0093 - acc: 0.70021s - loss:\n",
      "Epoch 15/50\n",
      "24009/24009 [==============================] - 1s 45us/sample - loss: 1.0011 - acc: 0.7092\n",
      "Epoch 16/50\n",
      "24009/24009 [==============================] - 1s 50us/sample - loss: 0.9957 - acc: 0.7100\n",
      "Epoch 17/50\n",
      "24009/24009 [==============================] - 1s 52us/sample - loss: 1.0866 - acc: 0.6796\n",
      "Epoch 18/50\n",
      "24009/24009 [==============================] - 1s 44us/sample - loss: 1.0326 - acc: 0.6906\n",
      "Epoch 19/50\n",
      "24009/24009 [==============================] - 1s 42us/sample - loss: 0.9916 - acc: 0.7073\n",
      "Epoch 20/50\n",
      "24009/24009 [==============================] - 1s 41us/sample - loss: 0.9951 - acc: 0.7069\n",
      "Epoch 21/50\n",
      "24009/24009 [==============================] - 1s 41us/sample - loss: 1.0304 - acc: 0.6907\n",
      "Epoch 22/50\n",
      "24009/24009 [==============================] - 1s 41us/sample - loss: 1.0240 - acc: 0.7007\n",
      "Epoch 23/50\n",
      "24009/24009 [==============================] - 1s 43us/sample - loss: 1.0617 - acc: 0.67670s - loss: 1.0082 - acc: \n",
      "Epoch 24/50\n",
      "24009/24009 [==============================] - 1s 47us/sample - loss: 0.9934 - acc: 0.7036\n",
      "Epoch 25/50\n",
      "24009/24009 [==============================] - 1s 43us/sample - loss: 0.9850 - acc: 0.7122\n",
      "Epoch 26/50\n",
      "24009/24009 [==============================] - 1s 42us/sample - loss: 0.9915 - acc: 0.7084\n",
      "Epoch 27/50\n",
      "24009/24009 [==============================] - 1s 46us/sample - loss: 0.9894 - acc: 0.7079\n",
      "Epoch 28/50\n",
      "24009/24009 [==============================] - 1s 52us/sample - loss: 0.9856 - acc: 0.7121\n",
      "Epoch 29/50\n",
      "24009/24009 [==============================] - 1s 42us/sample - loss: 0.9881 - acc: 0.7102\n",
      "Epoch 30/50\n",
      "24009/24009 [==============================] - 1s 46us/sample - loss: 0.9921 - acc: 0.7102\n",
      "Epoch 31/50\n",
      "24009/24009 [==============================] - 1s 42us/sample - loss: 1.0125 - acc: 0.7035\n",
      "Epoch 32/50\n",
      "24009/24009 [==============================] - 1s 43us/sample - loss: 0.9869 - acc: 0.7072\n",
      "Epoch 33/50\n",
      "24009/24009 [==============================] - 1s 41us/sample - loss: 0.9849 - acc: 0.7139\n",
      "Epoch 34/50\n",
      "24009/24009 [==============================] - 1s 41us/sample - loss: 0.9866 - acc: 0.7086\n",
      "Epoch 35/50\n",
      "24009/24009 [==============================] - 1s 42us/sample - loss: 0.9881 - acc: 0.7107\n",
      "Epoch 36/50\n",
      "24009/24009 [==============================] - 1s 44us/sample - loss: 0.9859 - acc: 0.7118\n",
      "Epoch 37/50\n",
      "24009/24009 [==============================] - 1s 44us/sample - loss: 0.9905 - acc: 0.7125\n",
      "Epoch 38/50\n",
      "24009/24009 [==============================] - 1s 41us/sample - loss: 0.9865 - acc: 0.7148\n",
      "Epoch 39/50\n",
      "24009/24009 [==============================] - 1s 42us/sample - loss: 1.0007 - acc: 0.6994\n",
      "Epoch 40/50\n",
      "24009/24009 [==============================] - 1s 41us/sample - loss: 0.9866 - acc: 0.7118\n",
      "Epoch 41/50\n",
      "24009/24009 [==============================] - 1s 46us/sample - loss: 0.9845 - acc: 0.7129\n",
      "Epoch 42/50\n",
      "24009/24009 [==============================] - 1s 42us/sample - loss: 1.0020 - acc: 0.7019\n",
      "Epoch 43/50\n",
      "24009/24009 [==============================] - 1s 42us/sample - loss: 0.9635 - acc: 0.7121\n",
      "Epoch 44/50\n",
      "24009/24009 [==============================] - 1s 45us/sample - loss: 0.9478 - acc: 0.7149\n",
      "Epoch 45/50\n",
      "24009/24009 [==============================] - 1s 42us/sample - loss: 0.8532 - acc: 0.7176\n",
      "Epoch 46/50\n",
      "24009/24009 [==============================] - 1s 40us/sample - loss: 0.8453 - acc: 0.7212\n",
      "Epoch 47/50\n",
      "24009/24009 [==============================] - 1s 41us/sample - loss: 0.8424 - acc: 0.7186\n",
      "Epoch 48/50\n",
      "24009/24009 [==============================] - 1s 40us/sample - loss: 0.8388 - acc: 0.7203\n",
      "Epoch 49/50\n",
      "24009/24009 [==============================] - 1s 47us/sample - loss: 0.8114 - acc: 0.7212\n",
      "Epoch 50/50\n",
      "24009/24009 [==============================] - 1s 42us/sample - loss: 0.7861 - acc: 0.71390s - loss: 0.7826 - acc\n"
     ]
    }
   ],
   "source": [
    "# Fit the model using 50 epochs and the training data\n",
    "fit_model_A1 = nn_A1.fit(X_train_scaled, y_train, epochs = 50)\n"
   ]
  },
  {
   "cell_type": "markdown",
   "metadata": {},
   "source": [
    "#### Alternative Model 2"
   ]
  },
  {
   "cell_type": "code",
   "execution_count": 89,
   "metadata": {},
   "outputs": [
    {
     "data": {
      "text/plain": [
       "116"
      ]
     },
     "execution_count": 89,
     "metadata": {},
     "output_type": "execute_result"
    }
   ],
   "source": [
    "# Define the the number of inputs (features) to the model\n",
    "number_input_features = len(X_train.iloc[0])\n",
    "\n",
    "# Review the number of features\n",
    "number_input_features"
   ]
  },
  {
   "cell_type": "code",
   "execution_count": 90,
   "metadata": {},
   "outputs": [],
   "source": [
    "# Define the number of neurons in the output layer\n",
    "number_output_neurons_A2 = 1"
   ]
  },
  {
   "cell_type": "code",
   "execution_count": 91,
   "metadata": {},
   "outputs": [
    {
     "data": {
      "text/plain": [
       "1000"
      ]
     },
     "execution_count": 91,
     "metadata": {},
     "output_type": "execute_result"
    }
   ],
   "source": [
    "# Define the number of hidden nodes for the first hidden layer\n",
    "hidden_nodes_layer1_A2 = 1000\n",
    "\n",
    "# Review the number of hidden nodes in the first layer\n",
    "hidden_nodes_layer1_A2"
   ]
  },
  {
   "cell_type": "code",
   "execution_count": 92,
   "metadata": {},
   "outputs": [],
   "source": [
    "# Create the Sequential model instance\n",
    "nn_A2 = Sequential()\n",
    "nn_A2.add(Input(shape=(number_input_features,)))"
   ]
  },
  {
   "cell_type": "code",
   "execution_count": 93,
   "metadata": {},
   "outputs": [
    {
     "name": "stdout",
     "output_type": "stream",
     "text": [
      "Model: \"sequential_7\"\n",
      "_________________________________________________________________\n",
      "Layer (type)                 Output Shape              Param #   \n",
      "=================================================================\n",
      "dense_13 (Dense)             (None, 100)               11700     \n",
      "_________________________________________________________________\n",
      "dense_14 (Dense)             (None, 1)                 101       \n",
      "=================================================================\n",
      "Total params: 11,801\n",
      "Trainable params: 11,801\n",
      "Non-trainable params: 0\n",
      "_________________________________________________________________\n"
     ]
    }
   ],
   "source": [
    "# First hidden layer\n",
    "nn_A2.add(Dense(hidden_nodes_layer1_A1, activation=\"tanh\"))\n",
    "\n",
    "# Output layer\n",
    "nn_A2.add(Dense(number_output_neurons_A2, activation=\"tanh\"))\n",
    "\n",
    "# Check the structure of the model\n",
    "nn_A1.summary()\n"
   ]
  },
  {
   "cell_type": "code",
   "execution_count": 94,
   "metadata": {},
   "outputs": [],
   "source": [
    "# Compile the model\n",
    "nn_A2.compile(loss = 'binary_crossentropy',optimizer = 'adam', metrics = ['accuracy'])\n"
   ]
  },
  {
   "cell_type": "code",
   "execution_count": 95,
   "metadata": {},
   "outputs": [
    {
     "name": "stdout",
     "output_type": "stream",
     "text": [
      "Epoch 1/70\n",
      "24009/24009 [==============================] - 1s 46us/sample - loss: 1.7194 - acc: 0.6609\n",
      "Epoch 2/70\n",
      "24009/24009 [==============================] - 1s 46us/sample - loss: 1.4071 - acc: 0.67310s - loss: 1.4430 - acc: \n",
      "Epoch 3/70\n",
      "24009/24009 [==============================] - 1s 46us/sample - loss: 1.2304 - acc: 0.69250s - loss: 1.2435 - acc:  - ETA: 0s - loss: 1.2214 - acc: 0.69\n",
      "Epoch 4/70\n",
      "24009/24009 [==============================] - 1s 39us/sample - loss: 1.1744 - acc: 0.6807\n",
      "Epoch 5/70\n",
      "24009/24009 [==============================] - 1s 38us/sample - loss: 1.2950 - acc: 0.6429\n",
      "Epoch 6/70\n",
      "24009/24009 [==============================] - 1s 38us/sample - loss: 1.0853 - acc: 0.6868\n",
      "Epoch 7/70\n",
      "24009/24009 [==============================] - 1s 47us/sample - loss: 1.0590 - acc: 0.7016\n",
      "Epoch 8/70\n",
      "24009/24009 [==============================] - 1s 51us/sample - loss: 1.0682 - acc: 0.7046\n",
      "Epoch 9/70\n",
      "24009/24009 [==============================] - 1s 45us/sample - loss: 1.0779 - acc: 0.6955\n",
      "Epoch 10/70\n",
      "24009/24009 [==============================] - 1s 51us/sample - loss: 1.0853 - acc: 0.6922\n",
      "Epoch 11/70\n",
      "24009/24009 [==============================] - 1s 54us/sample - loss: 1.0696 - acc: 0.6854\n",
      "Epoch 12/70\n",
      "24009/24009 [==============================] - 1s 56us/sample - loss: 1.0467 - acc: 0.6860\n",
      "Epoch 13/70\n",
      "24009/24009 [==============================] - 1s 53us/sample - loss: 1.0204 - acc: 0.70640s - loss: 1.0268 - acc\n",
      "Epoch 14/70\n",
      "24009/24009 [==============================] - 1s 48us/sample - loss: 1.0293 - acc: 0.6959\n",
      "Epoch 15/70\n",
      "24009/24009 [==============================] - 1s 53us/sample - loss: 1.0127 - acc: 0.70840s - loss: 1.\n",
      "Epoch 16/70\n",
      "24009/24009 [==============================] - 1s 49us/sample - loss: 1.0216 - acc: 0.7060\n",
      "Epoch 17/70\n",
      "24009/24009 [==============================] - 1s 45us/sample - loss: 1.0760 - acc: 0.6747\n",
      "Epoch 18/70\n",
      "24009/24009 [==============================] - 1s 46us/sample - loss: 1.0376 - acc: 0.6928\n",
      "Epoch 19/70\n",
      "24009/24009 [==============================] - 1s 49us/sample - loss: 0.9864 - acc: 0.7088\n",
      "Epoch 20/70\n",
      "24009/24009 [==============================] - ETA: 0s - loss: 0.9799 - acc: 0.709 - 1s 50us/sample - loss: 0.9802 - acc: 0.7089\n",
      "Epoch 21/70\n",
      "24009/24009 [==============================] - 1s 53us/sample - loss: 0.9843 - acc: 0.7101\n",
      "Epoch 22/70\n",
      "24009/24009 [==============================] - 1s 48us/sample - loss: 0.9878 - acc: 0.7007\n",
      "Epoch 23/70\n",
      "24009/24009 [==============================] - 1s 50us/sample - loss: 1.0184 - acc: 0.69640s - loss: \n",
      "Epoch 24/70\n",
      "24009/24009 [==============================] - 1s 43us/sample - loss: 1.0291 - acc: 0.6899\n",
      "Epoch 25/70\n",
      "24009/24009 [==============================] - 1s 47us/sample - loss: 0.9812 - acc: 0.7089\n",
      "Epoch 26/70\n",
      "24009/24009 [==============================] - 1s 52us/sample - loss: 0.9790 - acc: 0.7093\n",
      "Epoch 27/70\n",
      "24009/24009 [==============================] - 1s 47us/sample - loss: 1.0211 - acc: 0.6873\n",
      "Epoch 28/70\n",
      "24009/24009 [==============================] - 1s 53us/sample - loss: 0.9754 - acc: 0.7115\n",
      "Epoch 29/70\n",
      "24009/24009 [==============================] - 1s 51us/sample - loss: 0.9802 - acc: 0.7136\n",
      "Epoch 30/70\n",
      "24009/24009 [==============================] - 1s 48us/sample - loss: 0.9915 - acc: 0.7049\n",
      "Epoch 31/70\n",
      "24009/24009 [==============================] - 1s 40us/sample - loss: 1.0036 - acc: 0.6981\n",
      "Epoch 32/70\n",
      "24009/24009 [==============================] - 1s 50us/sample - loss: 0.9795 - acc: 0.7101\n",
      "Epoch 33/70\n",
      "24009/24009 [==============================] - 1s 50us/sample - loss: 0.9752 - acc: 0.71130s - loss: 0.9\n",
      "Epoch 34/70\n",
      "24009/24009 [==============================] - 1s 51us/sample - loss: 0.9778 - acc: 0.7146\n",
      "Epoch 35/70\n",
      "24009/24009 [==============================] - 1s 52us/sample - loss: 1.0136 - acc: 0.6926\n",
      "Epoch 36/70\n",
      "24009/24009 [==============================] - 1s 51us/sample - loss: 0.9908 - acc: 0.7019\n",
      "Epoch 37/70\n",
      "24009/24009 [==============================] - 1s 54us/sample - loss: 0.9813 - acc: 0.7088\n",
      "Epoch 38/70\n",
      "24009/24009 [==============================] - 1s 60us/sample - loss: 0.9782 - acc: 0.7135\n",
      "Epoch 39/70\n",
      "24009/24009 [==============================] - 2s 69us/sample - loss: 0.9772 - acc: 0.7129\n",
      "Epoch 40/70\n",
      "24009/24009 [==============================] - 1s 57us/sample - loss: 1.0008 - acc: 0.7035\n",
      "Epoch 41/70\n",
      "24009/24009 [==============================] - 2s 63us/sample - loss: 0.9766 - acc: 0.7054\n",
      "Epoch 42/70\n",
      "24009/24009 [==============================] - 1s 53us/sample - loss: 1.0149 - acc: 0.6564\n",
      "Epoch 43/70\n",
      "24009/24009 [==============================] - 1s 57us/sample - loss: 0.8847 - acc: 0.7149\n",
      "Epoch 44/70\n",
      "24009/24009 [==============================] - 2s 66us/sample - loss: 1.0713 - acc: 0.6713\n",
      "Epoch 45/70\n",
      "24009/24009 [==============================] - 2s 70us/sample - loss: 1.3543 - acc: 0.56661s - loss: 1.6929  - ETA: 0s - loss: 1.473\n",
      "Epoch 46/70\n",
      "24009/24009 [==============================] - 1s 59us/sample - loss: 1.0573 - acc: 0.6477\n",
      "Epoch 47/70\n",
      "24009/24009 [==============================] - 1s 57us/sample - loss: 0.9590 - acc: 0.6824\n",
      "Epoch 48/70\n",
      "24009/24009 [==============================] - 1s 51us/sample - loss: 0.9263 - acc: 0.69170s - loss: 0.9446\n",
      "Epoch 49/70\n",
      "24009/24009 [==============================] - 2s 69us/sample - loss: 0.9108 - acc: 0.69380s - loss\n",
      "Epoch 50/70\n",
      "24009/24009 [==============================] - 2s 63us/sample - loss: 0.8994 - acc: 0.6941\n",
      "Epoch 51/70\n",
      "24009/24009 [==============================] - 2s 70us/sample - loss: 0.8890 - acc: 0.7087\n",
      "Epoch 52/70\n",
      "24009/24009 [==============================] - 1s 57us/sample - loss: 0.8795 - acc: 0.7152\n",
      "Epoch 53/70\n",
      "24009/24009 [==============================] - 1s 50us/sample - loss: 0.8788 - acc: 0.7156\n",
      "Epoch 54/70\n",
      "24009/24009 [==============================] - 1s 50us/sample - loss: 0.8819 - acc: 0.7150\n",
      "Epoch 55/70\n",
      "24009/24009 [==============================] - 1s 57us/sample - loss: 0.8798 - acc: 0.7139\n",
      "Epoch 56/70\n",
      "24009/24009 [==============================] - 1s 53us/sample - loss: 0.8758 - acc: 0.71620s - loss: 0.\n",
      "Epoch 57/70\n",
      "24009/24009 [==============================] - 1s 45us/sample - loss: 0.8810 - acc: 0.7164\n",
      "Epoch 58/70\n",
      "24009/24009 [==============================] - 1s 44us/sample - loss: 0.8700 - acc: 0.7177\n",
      "Epoch 59/70\n",
      "24009/24009 [==============================] - 1s 46us/sample - loss: 0.9003 - acc: 0.6997\n",
      "Epoch 60/70\n",
      "24009/24009 [==============================] - 1s 58us/sample - loss: 0.8677 - acc: 0.7198\n",
      "Epoch 61/70\n",
      "24009/24009 [==============================] - 1s 48us/sample - loss: 0.8705 - acc: 0.7083\n",
      "Epoch 62/70\n",
      "24009/24009 [==============================] - 1s 43us/sample - loss: 0.8115 - acc: 0.6784\n",
      "Epoch 63/70\n",
      "24009/24009 [==============================] - 1s 41us/sample - loss: 0.7279 - acc: 0.69150s - loss: 0.\n",
      "Epoch 64/70\n",
      "24009/24009 [==============================] - 1s 41us/sample - loss: 0.6879 - acc: 0.71500s - loss: 0.6882 - acc: 0.714\n",
      "Epoch 65/70\n",
      "24009/24009 [==============================] - 1s 48us/sample - loss: 0.6405 - acc: 0.7200\n",
      "Epoch 66/70\n",
      "24009/24009 [==============================] - 1s 43us/sample - loss: 0.6223 - acc: 0.7265\n",
      "Epoch 67/70\n",
      "24009/24009 [==============================] - 1s 43us/sample - loss: 0.6283 - acc: 0.7210\n",
      "Epoch 68/70\n",
      "24009/24009 [==============================] - 1s 46us/sample - loss: 0.6183 - acc: 0.7289\n",
      "Epoch 69/70\n",
      "24009/24009 [==============================] - 1s 43us/sample - loss: 0.6227 - acc: 0.7241\n",
      "Epoch 70/70\n",
      "24009/24009 [==============================] - 1s 41us/sample - loss: 0.6294 - acc: 0.7209\n"
     ]
    }
   ],
   "source": [
    "# Fit the model\n",
    "fit_model_A2 = nn_A2.fit(X_train_scaled, y_train, epochs = 70)\n"
   ]
  },
  {
   "cell_type": "markdown",
   "metadata": {},
   "source": [
    "### Step 2: After finishing your models, display the accuracy scores achieved by each model, and compare the results."
   ]
  },
  {
   "cell_type": "code",
   "execution_count": 101,
   "metadata": {},
   "outputs": [
    {
     "name": "stdout",
     "output_type": "stream",
     "text": [
      "Original Model Results\n",
      "Loss: 0.593671538646761, Accuracy: 0.718853235244751\n"
     ]
    }
   ],
   "source": [
    "print(\"Original Model Results\")\n",
    "\n",
    "# Evaluate the model loss and accuracy metrics using the evaluate method and the test data\n",
    "model_loss, model_accuracy = nn.evaluate(X_test_scaled, y_test, verbose = 0) \n",
    "\n",
    "# Display the model loss and accuracy results\n",
    "print(f\"Loss: {model_loss}, Accuracy: {model_accuracy}\")"
   ]
  },
  {
   "cell_type": "code",
   "execution_count": 97,
   "metadata": {},
   "outputs": [
    {
     "name": "stdout",
     "output_type": "stream",
     "text": [
      "Alternative Model 1 Results\n",
      "Loss: 0.7630400044693312, Accuracy: 0.7217687368392944\n"
     ]
    }
   ],
   "source": [
    "print(\"Alternative Model 1 Results\")\n",
    "\n",
    "# Evaluate the model loss and accuracy metrics using the evaluate method and the test data\n",
    "model_loss, model_accuracy = nn_A1.evaluate(X_test_scaled, y_test, verbose = 0) \n",
    "\n",
    "# Display the model loss and accuracy results\n",
    "print(f\"Loss: {model_loss}, Accuracy: {model_accuracy}\")"
   ]
  },
  {
   "cell_type": "code",
   "execution_count": 98,
   "metadata": {},
   "outputs": [
    {
     "name": "stdout",
     "output_type": "stream",
     "text": [
      "Alternative Model 2 Results\n",
      "Loss: 0.624992354328593, Accuracy: 0.7290573120117188\n"
     ]
    }
   ],
   "source": [
    "print(\"Alternative Model 2 Results\")\n",
    "\n",
    "# Evaluate the model loss and accuracy metrics using the evaluate method and the test data\n",
    "model_loss, model_accuracy = nn_A2.evaluate(X_test_scaled, y_test, verbose = 0) \n",
    "\n",
    "# Display the model loss and accuracy results\n",
    "print(f\"Loss: {model_loss}, Accuracy: {model_accuracy}\")"
   ]
  },
  {
   "cell_type": "markdown",
   "metadata": {},
   "source": [
    "### Step 3: Save each of your alternative models as an HDF5 file.\n"
   ]
  },
  {
   "cell_type": "code",
   "execution_count": 102,
   "metadata": {},
   "outputs": [],
   "source": [
    "# Set the file path for the first alternative model\n",
    "file_path =  \"./\"\n",
    "\n",
    "# Export your model to a HDF5 file\n",
    "nn_A1.save(file_path + \"AlphabetSoup_alternative1.h5\")"
   ]
  },
  {
   "cell_type": "code",
   "execution_count": 103,
   "metadata": {},
   "outputs": [],
   "source": [
    "# Set the file path for the second alternative model\n",
    "file_path =  \"./\"\n",
    "\n",
    "# Export your model to a HDF5 file\n",
    "nn_A2.save(file_path + \"AlphabetSoup_alternative2.h5\")\n"
   ]
  },
  {
   "cell_type": "code",
   "execution_count": null,
   "metadata": {},
   "outputs": [],
   "source": []
  }
 ],
 "metadata": {
  "kernelspec": {
   "display_name": "Python 3 (ipykernel)",
   "language": "python",
   "name": "python3"
  },
  "language_info": {
   "codemirror_mode": {
    "name": "ipython",
    "version": 3
   },
   "file_extension": ".py",
   "mimetype": "text/x-python",
   "name": "python",
   "nbconvert_exporter": "python",
   "pygments_lexer": "ipython3",
   "version": "3.7.11"
  }
 },
 "nbformat": 4,
 "nbformat_minor": 4
}
